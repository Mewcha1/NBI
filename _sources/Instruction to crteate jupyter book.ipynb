{
 "cells": [
  {
   "cell_type": "markdown",
   "id": "afe08df8-8422-40eb-9471-a53be4d11ffb",
   "metadata": {},
   "source": [
    "### Step 1: Set Up Your Environment\n",
    "Install Python and Jupyter Book: Make sure you have Python installed. Then, install Jupyter Book using pip:"
   ]
  },
  {
   "cell_type": "code",
   "execution_count": null,
   "id": "ef547e37-65cb-4fec-9c6d-45199b8f2830",
   "metadata": {},
   "outputs": [],
   "source": []
  },
  {
   "cell_type": "code",
   "execution_count": null,
   "id": "ab81e9a5-77d2-4653-b549-ae1a1b32d32e",
   "metadata": {},
   "outputs": [],
   "source": [
    "pip install jupyter-book"
   ]
  },
  {
   "cell_type": "markdown",
   "id": "b5f998e2-9c5d-4874-a37b-0dd69fb9bc71",
   "metadata": {},
   "source": [
    "### Step 2: Create a Jupyter Book\n",
    "Initialize the Book: Create a new Jupyter Book structure:Add Content: Navigate to the created folder [name] and add your content:\n",
    "Place Markdown (.md) or Jupyter Notebook (.ipynb) files in the appropriate directories. Update the toc.yml file to define the structure of your book."
   ]
  },
  {
   "cell_type": "code",
   "execution_count": null,
   "id": "17d67769-27db-4070-a582-35477bcdc153",
   "metadata": {},
   "outputs": [],
   "source": [
    "jupyter-book create NBI2"
   ]
  },
  {
   "cell_type": "markdown",
   "id": "63591840-fd78-4f22-aeb9-33e1150e4dca",
   "metadata": {},
   "source": [
    "### Step 3: Build the Book Locally"
   ]
  },
  {
   "cell_type": "code",
   "execution_count": null,
   "id": "b76eddb0-6804-48ea-b122-681d6ab5e0eb",
   "metadata": {},
   "outputs": [],
   "source": [
    "#This generates the HTML files in _build/html.\n",
    "jupyter-book build NBI2"
   ]
  },
  {
   "cell_type": "markdown",
   "id": "b76f9b32-cfd8-4ffd-8ab3-ecaaaff989c6",
   "metadata": {},
   "source": [
    "### Step 4: Publish to GitHub\n",
    "Create a GitHub Repository:Go to GitHub and create a new repository.\n",
    "Do not initialize the repository with a README file (it will conflict with your local files). Then clone to add all the files to the created repository using the following command. NBI-project is the repository created in gitgub"
   ]
  },
  {
   "cell_type": "code",
   "execution_count": null,
   "id": "c6a13cb1-993a-4bc1-bf31-27d0dc1e6ed0",
   "metadata": {},
   "outputs": [],
   "source": [
    "git clone [repository link, eg.  https://github.com/Mewcha1/NBI ]"
   ]
  },
  {
   "cell_type": "markdown",
   "id": "dd17602c-4a20-42ea-80e6-9934c9c8addf",
   "metadata": {},
   "source": [
    "### Step 5: copy all file from the folder in step3 to the folder in step 4 (github repository)\n",
    "For better handling of folder structures, use the robocopy command (available by default in Windows):"
   ]
  },
  {
   "cell_type": "code",
   "execution_count": null,
   "id": "673ddd99-2285-4e64-b5a8-b7ff269940cd",
   "metadata": {},
   "outputs": [],
   "source": [
    "robocopy NBI2 NBI /E"
   ]
  },
  {
   "cell_type": "markdown",
   "id": "49be44b8-ae58-4b36-8462-ff972019073b",
   "metadata": {},
   "source": [
    "### Step 6: Uplload your html to the repository\n",
    "change the directory in the anaconda propmt to the repository folder (NBI-project). \n",
    "use ghp-import tool to publish the html. The ghp-import Python package is a utility designed to quickly deploy static files (like the HTML files generated for your Jupyter Book) to GitHub Pages."
   ]
  },
  {
   "cell_type": "code",
   "execution_count": null,
   "id": "14c1984d-5099-481f-b950-d14f52dd55a0",
   "metadata": {},
   "outputs": [],
   "source": [
    "#transferring your built website to a GitHub Pages branch (gh-pages)\n",
    "pip install ghp-import\n",
    "#Deploy to GitHub Pages \n",
    "ghp-import -n -p -f _build/html"
   ]
  },
  {
   "cell_type": "markdown",
   "id": "f8e850f3-7020-4938-b636-e667a141594e",
   "metadata": {},
   "source": [
    "### Step 4: Enable GitHub Pages\n",
    "1. Go to the Settings of your GitHub repository.\n",
    "2. Scroll down to the Pages section.\n",
    "3. Under Source, select gh-pages (or the appropriate branch if you've built your book differently).\n",
    "4. Save the settings, and GitHub will generate a public URL for your book."
   ]
  },
  {
   "cell_type": "markdown",
   "id": "f3d18160-ee00-4cb1-b50a-529c49a1d92e",
   "metadata": {},
   "source": [
    "reference: https://www.youtube.com/watch?v=lZ2FHTkyaMU"
   ]
  },
  {
   "cell_type": "code",
   "execution_count": 3,
   "id": "490d03bc-3cc6-471b-946f-d28339110ed3",
   "metadata": {},
   "outputs": [
    {
     "data": {
      "application/vnd.jupyter.widget-view+json": {
       "model_id": "d7a7d87fa97e4ce496be310a4a6885e7",
       "version_major": 2,
       "version_minor": 0
      },
      "text/plain": [
       "Map(center=[25.5, -80.75], controls=(WidgetControl(options=['position', 'transparent_bg'], widget=SearchDataGU…"
      ]
     },
     "execution_count": 3,
     "metadata": {},
     "output_type": "execute_result"
    }
   ],
   "source": [
    "import ee\n",
    "import geemap\n",
    "\n",
    "# Authenticate and initialize Earth Engine\n",
    "ee.Authenticate()\n",
    "ee.Initialize()\n",
    "# Define Florida's bounding box\n",
    "florida_bounds = ee.Geometry.Rectangle([\n",
    "    -81.39207,  # lon_min\n",
    "    25.10831,   # lat_min\n",
    "    -80.09851,  # lon_max\n",
    "    25.96406    # lat_max\n",
    "])\n",
    "\n",
    "# Create a map centered on the Florida bounds\n",
    "Map = geemap.Map(center=[25.5, -80.75], zoom=10)\n",
    "\n",
    "# Add a basemap (Google Satellite basemap)\n",
    "Map.add_basemap('SATELLITE')  # Google Satellite basemap\n",
    "\n",
    "# Create a border by converting the rectangle into a line geometry\n",
    "border = ee.Geometry.LineString([\n",
    "    [-81.39207, 25.10831],  # bottom-left corner\n",
    "    [-80.09851, 25.10831],  # bottom-right corner\n",
    "    [-80.09851, 25.96406],  # top-right corner\n",
    "    [-81.39207, 25.96406],  # top-left corner\n",
    "    [-81.39207, 25.10831]   # closing the loop back to bottom-left\n",
    "])\n",
    "\n",
    "# Add the red border line to the map (this layer is now added last to be in front)\n",
    "Map.addLayer(border, {'color': 'red', 'width': 3}, 'Florida Boundary Border')\n",
    "\n",
    "# Display the map\n",
    "Map\n"
   ]
  },
  {
   "cell_type": "code",
   "execution_count": 4,
   "id": "87ea73ce-093f-4e58-8a64-8bc1dd9c62dd",
   "metadata": {},
   "outputs": [
    {
     "data": {
      "text/html": [
       "\n",
       "            <style>\n",
       "                .geemap-dark {\n",
       "                    --jp-widgets-color: white;\n",
       "                    --jp-widgets-label-color: white;\n",
       "                    --jp-ui-font-color1: white;\n",
       "                    --jp-layout-color2: #454545;\n",
       "                    background-color: #383838;\n",
       "                }\n",
       "\n",
       "                .geemap-dark .jupyter-button {\n",
       "                    --jp-layout-color3: #383838;\n",
       "                }\n",
       "\n",
       "                .geemap-colab {\n",
       "                    background-color: var(--colab-primary-surface-color, white);\n",
       "                }\n",
       "\n",
       "                .geemap-colab .jupyter-button {\n",
       "                    --jp-layout-color3: var(--colab-primary-surface-color, white);\n",
       "                }\n",
       "            </style>\n",
       "            "
      ],
      "text/plain": [
       "<IPython.core.display.HTML object>"
      ]
     },
     "metadata": {},
     "output_type": "display_data"
    },
    {
     "name": "stdout",
     "output_type": "stream",
     "text": [
      "Requirement already satisfied: folium in c:\\users\\mgebremedhin\\appdata\\local\\miniconda3\\lib\\site-packages (0.18.0)\n",
      "Requirement already satisfied: branca>=0.6.0 in c:\\users\\mgebremedhin\\appdata\\local\\miniconda3\\lib\\site-packages (from folium) (0.8.0)\n",
      "Requirement already satisfied: jinja2>=2.9 in c:\\users\\mgebremedhin\\appdata\\local\\miniconda3\\lib\\site-packages (from folium) (3.1.4)\n",
      "Requirement already satisfied: numpy in c:\\users\\mgebremedhin\\appdata\\local\\miniconda3\\lib\\site-packages (from folium) (2.1.3)\n",
      "Requirement already satisfied: requests in c:\\users\\mgebremedhin\\appdata\\local\\miniconda3\\lib\\site-packages (from folium) (2.32.3)\n",
      "Requirement already satisfied: xyzservices in c:\\users\\mgebremedhin\\appdata\\local\\miniconda3\\lib\\site-packages (from folium) (2024.9.0)\n",
      "Requirement already satisfied: MarkupSafe>=2.0 in c:\\users\\mgebremedhin\\appdata\\local\\miniconda3\\lib\\site-packages (from jinja2>=2.9->folium) (3.0.2)\n",
      "Requirement already satisfied: charset-normalizer<4,>=2 in c:\\users\\mgebremedhin\\appdata\\local\\miniconda3\\lib\\site-packages (from requests->folium) (3.3.2)\n",
      "Requirement already satisfied: idna<4,>=2.5 in c:\\users\\mgebremedhin\\appdata\\local\\miniconda3\\lib\\site-packages (from requests->folium) (3.7)\n",
      "Requirement already satisfied: urllib3<3,>=1.21.1 in c:\\users\\mgebremedhin\\appdata\\local\\miniconda3\\lib\\site-packages (from requests->folium) (2.2.3)\n",
      "Requirement already satisfied: certifi>=2017.4.17 in c:\\users\\mgebremedhin\\appdata\\local\\miniconda3\\lib\\site-packages (from requests->folium) (2024.8.30)\n",
      "Note: you may need to restart the kernel to use updated packages.\n"
     ]
    }
   ],
   "source": [
    "pip install folium"
   ]
  },
  {
   "cell_type": "code",
   "execution_count": null,
   "id": "c8a36ff6-c12c-4c16-af3e-939b5c0e2824",
   "metadata": {},
   "outputs": [],
   "source": []
  }
 ],
 "metadata": {
  "kernelspec": {
   "display_name": "Python 3 (ipykernel)",
   "language": "python",
   "name": "python3"
  },
  "language_info": {
   "codemirror_mode": {
    "name": "ipython",
    "version": 3
   },
   "file_extension": ".py",
   "mimetype": "text/x-python",
   "name": "python",
   "nbconvert_exporter": "python",
   "pygments_lexer": "ipython3",
   "version": "3.12.7"
  }
 },
 "nbformat": 4,
 "nbformat_minor": 5
}
