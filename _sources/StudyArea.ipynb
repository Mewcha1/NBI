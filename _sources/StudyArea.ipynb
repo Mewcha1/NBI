{
 "cells": [
  {
   "cell_type": "markdown",
   "id": "73f611e3-0633-49f6-b434-67b1643a7098",
   "metadata": {},
   "source": [
    "# Study area\n",
    "The study area covers the same boundary to the Biscayne and Southern Everglades Coastal Transport (BISECT) domain"
   ]
  },
  {
   "cell_type": "code",
   "execution_count": 9,
   "id": "626279b8-34c3-441b-a45f-823d54c8518c",
   "metadata": {},
   "outputs": [
    {
     "name": "stdout",
     "output_type": "stream",
     "text": [
      "Map saved as 'florida_map.html'\n"
     ]
    }
   ],
   "source": [
    "import folium\n",
    "\n",
    "# Define the boundary coordinates for Florida\n",
    "florida_bounds = [\n",
    "    [25.10831, -81.39207],  # bottom-left corner\n",
    "    [25.10831, -80.09851],  # bottom-right corner\n",
    "    [25.96406, -80.09851],  # top-right corner\n",
    "    [25.96406, -81.39207],  # top-left corner\n",
    "    [25.10831, -81.39207]   # closing the loop back to bottom-left\n",
    "]\n",
    "\n",
    "# Create a folium map centered on the middle of the boundary\n",
    "florida_map = folium.Map(location=[25.5, -80.75], zoom_start=10)\n",
    "\n",
    "# Add the boundary as a red polygon\n",
    "folium.Polygon(\n",
    "    locations=florida_bounds,\n",
    "    color='red',\n",
    "    weight=3,\n",
    "    fill=False  # Make the polygon transparent\n",
    ").add_to(florida_map)\n",
    "\n",
    "# Add a basemap (e.g., Stamen Terrain)\n",
    "folium.TileLayer(\n",
    "    tiles='Stamen Terrain',\n",
    "    attr='Map tiles by Stamen Design, under CC BY 3.0. Data by OpenStreetMap, under ODbL.',\n",
    "    name='Stamen Terrain'\n",
    ").add_to(florida_map)\n",
    "\n",
    "# Display the map\n",
    "florida_map\n",
    "# Save the map to an HTML file\n",
    "florida_map.save(\"florida_map.html\")\n",
    "print(\"Map saved as 'florida_map.html'\")\n"
   ]
  },
  {
   "cell_type": "code",
   "execution_count": null,
   "id": "61dbd8de-d6c8-4fc7-a9d1-7c848302f4ff",
   "metadata": {},
   "outputs": [],
   "source": []
  }
 ],
 "metadata": {
  "kernelspec": {
   "display_name": "Python 3 (ipykernel)",
   "language": "python",
   "name": "python3"
  },
  "language_info": {
   "codemirror_mode": {
    "name": "ipython",
    "version": 3
   },
   "file_extension": ".py",
   "mimetype": "text/x-python",
   "name": "python",
   "nbconvert_exporter": "python",
   "pygments_lexer": "ipython3",
   "version": "3.12.7"
  }
 },
 "nbformat": 4,
 "nbformat_minor": 5
}
